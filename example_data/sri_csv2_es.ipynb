{
 "cells": [
  {
   "cell_type": "code",
   "execution_count": 16,
   "metadata": {
    "collapsed": false
   },
   "outputs": [],
   "source": [
    "import glob,re\n",
    "from pandas import read_csv\n",
    "from elasticsearch import Elasticsearch"
   ]
  },
  {
   "cell_type": "markdown",
   "metadata": {},
   "source": [
    "Elastic Search Debug code used to create es_insert.py!"
   ]
  },
  {
   "cell_type": "code",
   "execution_count": 17,
   "metadata": {
    "collapsed": false
   },
   "outputs": [],
   "source": [
    "es = Elasticsearch()\n",
    "pieces=[]\n",
    "for file in glob.glob('*.csv'):\n",
    "    df=read_csv(file)\n",
    "    df.columns =['TAG',\"DATA\"]\n",
    "    df=df[df[df.columns[0]]!='\\n']\n",
    "    y=1\n",
    "    for i in df.index:\n",
    "        temp = df.loc[i].to_dict()\n",
    "        temp['DATA'] = re.sub(' +',' ',temp['DATA'])\n",
    "        es.index(index=\"mark_test\", doc_type=\"hearing\", id=y, body=temp)\n",
    "        y +=1\n",
    "        pieces.append(temp)\n"
   ]
  },
  {
   "cell_type": "code",
   "execution_count": 26,
   "metadata": {
    "collapsed": false
   },
   "outputs": [],
   "source": [
    "res = es.search(index=\"mark_test\", body={\"query\": {\"match_all\": {}}},size=1000, from_=1000)"
   ]
  },
  {
   "cell_type": "code",
   "execution_count": 46,
   "metadata": {
    "collapsed": false
   },
   "outputs": [],
   "source": [
    "#q= {\"query\":{\"terms\":{\"_id\":[ \"1\", \"2\" ]}},\"script_fields\":{\"UID\":{\"script\": \"doc['_id']\"}}}\n",
    "q= {\n",
    "  \"fields\": [\n",
    "    \"_id\"\n",
    "  ],\n",
    "  \"query\": {\n",
    "    \"match_all\": {}\n",
    "  },\n",
    "  \"sort\": {\n",
    "    \"_id\": \"desc\"\n",
    "  },\n",
    "  \"size\": 1\n",
    "}\n",
    "\n",
    "#res = es.search(index=\"mark_test\", body=q)\n",
    "#res = es.get(index=\"mark_test\", doc_type='hearing', id=1)\n",
    "res = es.search(index = \"mark_test\", doc_type = \"hearing\", size=0)"
   ]
  },
  {
   "cell_type": "code",
   "execution_count": 52,
   "metadata": {
    "collapsed": false
   },
   "outputs": [],
   "source": [
    "res = es.get(index=\"mark_test\", doc_type='hearing', id=1652)"
   ]
  },
  {
   "cell_type": "code",
   "execution_count": 53,
   "metadata": {
    "collapsed": false
   },
   "outputs": [
    {
     "data": {
      "text/plain": [
       "{'_id': '1652',\n",
       " '_index': 'mark_test',\n",
       " '_source': {'DATA': 'The other Members bring with them tremendous private-sector, military, and other experience which will be helpful in our oversight of the Department of Homeland Security.',\n",
       "  'TAG': 'CHRG-114hhrg94109'},\n",
       " '_type': 'hearing',\n",
       " '_version': 2,\n",
       " 'found': True}"
      ]
     },
     "execution_count": 53,
     "metadata": {},
     "output_type": "execute_result"
    }
   ],
   "source": [
    "res"
   ]
  }
 ],
 "metadata": {
  "kernelspec": {
   "display_name": "Python 3",
   "language": "python",
   "name": "python3"
  },
  "language_info": {
   "codemirror_mode": {
    "name": "ipython",
    "version": 3
   },
   "file_extension": ".py",
   "mimetype": "text/x-python",
   "name": "python",
   "nbconvert_exporter": "python",
   "pygments_lexer": "ipython3",
   "version": "3.5.1"
  }
 },
 "nbformat": 4,
 "nbformat_minor": 0
}
